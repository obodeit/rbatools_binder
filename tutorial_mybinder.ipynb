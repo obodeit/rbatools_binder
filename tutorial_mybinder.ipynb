{
 "cells": [
  {
   "cell_type": "markdown",
   "metadata": {},
   "source": [
    "# Example notebook rbatools - slim version\n",
    "\n",
    "Here we exemplify rbatools with the existing RBA-model of Bacillus subtilis (https://pubmed.ncbi.nlm.nih.gov/26498510/).\n",
    "\n",
    "#### In order to run this notebook, please press \"Run\" --> \"Run All Cells\". (The expected runtime is 5 minutes)\n",
    "\n",
    "\n",
    "For further information on rba, please consider our website: https://rba.inrae.fr \n",
    "\n",
    "Please note that this is a reduced version, optimized for computation time and memory usage and results can therefore differ.\n",
    "For a more refined analysis, please consider the tutorials on https://github.com/SysBioInra/rbatools\n"
   ]
  },
  {
   "cell_type": "code",
   "execution_count": null,
   "metadata": {},
   "outputs": [],
   "source": [
    "# doing necessary imports:\n",
    "\n",
    "import matplotlib as mpl\n",
    "import matplotlib.pyplot as plt\n",
    "import seaborn\n",
    "import pandas\n",
    "import numpy\n",
    "import rba\n",
    "\n",
    "from ipywidgets import IntProgress\n",
    "from IPython.display import display\n",
    "\n",
    "from rbatools.rba_session import SessionRBA\n"
   ]
  },
  {
   "cell_type": "markdown",
   "metadata": {},
   "source": [
    "# General instructions on this notebook"
   ]
  },
  {
   "cell_type": "markdown",
   "metadata": {},
   "source": [
    "## Starting of session\n",
    "Here we initiate an rbatools.rba_session.SessionRBA with a model of B.subtilis. Variable 'model_filename' specifies where the RBA model is located and should be changed by the user. \n",
    "\n",
    "Upon initiation of session explicit exchange reactions for external metabolites are added, to facilitate conveinient acces to metabolite exchange rates.\n",
    "\n",
    "#### 'Bacterial-RBA-models' directory with different bacterial RBA models can be obtained from: https://github.com/SysBioInra/Bacterial-RBA-models\n",
    "\n",
    "#### --> Relevant rbatools.rba_ression.SessionRBA methods on used here, are '__init__' and 'add_exchange_reactions'."
   ]
  },
  {
   "cell_type": "code",
   "execution_count": null,
   "metadata": {},
   "outputs": [],
   "source": [
    "print(SessionRBA.__doc__)"
   ]
  },
  {
   "cell_type": "code",
   "execution_count": null,
   "metadata": {},
   "outputs": [],
   "source": [
    "print(SessionRBA.__init__.__doc__)"
   ]
  },
  {
   "cell_type": "code",
   "execution_count": null,
   "metadata": {},
   "outputs": [],
   "source": [
    "print(SessionRBA.add_exchange_reactions.__doc__)"
   ]
  },
  {
   "cell_type": "code",
   "execution_count": null,
   "metadata": {},
   "outputs": [],
   "source": [
    "model_filename = 'Bacterial-RBA-models/Bacillus-subtilis-168-WT'\n",
    "Simulation = SessionRBA(model_filename,lp_solver=\"swiglpk\")\n",
    "Simulation.add_exchange_reactions()"
   ]
  },
  {
   "cell_type": "markdown",
   "metadata": {},
   "source": [
    "## Glucose screen\n",
    "Here we iterate through a predefined list of glucose concentrations (glcs) and determine the corresponding maximum growth-rates and optimal configuration of exchange fluxes. Maximum growth-rate vs. glucose results in  a Monod curve\n",
    "#### --> Relevant rbatools.rba_session.SessionRBA methods used here, are 'get_medium', 'set_medium', 'find_max_growth_rate' and 'return_exchange_fluxes'."
   ]
  },
  {
   "cell_type": "code",
   "execution_count": null,
   "metadata": {},
   "outputs": [],
   "source": [
    "print(Simulation.reload_model.__doc__)"
   ]
  },
  {
   "cell_type": "code",
   "execution_count": null,
   "metadata": {},
   "outputs": [],
   "source": [
    "print(Simulation.set_medium.__doc__)"
   ]
  },
  {
   "cell_type": "code",
   "execution_count": null,
   "metadata": {},
   "outputs": [],
   "source": [
    "print(Simulation.find_max_growth_rate.__doc__)"
   ]
  },
  {
   "cell_type": "code",
   "execution_count": null,
   "metadata": {},
   "outputs": [],
   "source": [
    "print(Simulation.return_exchange_fluxes.__doc__)"
   ]
  },
  {
   "cell_type": "code",
   "execution_count": null,
   "metadata": {},
   "outputs": [],
   "source": [
    "Simulation.reload_model()\n",
    "\n",
    "glcs=[0.005+(i*0.005) for i in range(13)]\n",
    "Results_glc_screen={\"Mu\":[],\"M_glc\":[],\"M_o2\":[],\"M_ac\":[]}\n",
    "\n",
    "f = IntProgress(min=0, max=len(glcs)) \n",
    "display(f) \n",
    "\n",
    "for glc_conc in glcs:\n",
    "    f.value += 1 \n",
    "    Simulation.set_medium({'M_glc':glc_conc})\n",
    "    mumax=Simulation.find_max_growth_rate(max=1.0,try_unscaling_if_sol_status_is_feasible_only_before_unscaling=False)\n",
    "    J_ex=Simulation.return_exchange_fluxes()\n",
    "    for i in Results_glc_screen.keys():\n",
    "        if i ==\"Mu\":\n",
    "            Results_glc_screen[\"Mu\"].append(mumax)\n",
    "        else:\n",
    "            if i in J_ex.keys():\n",
    "                Results_glc_screen[i].append(J_ex[i])\n",
    "            else:\n",
    "                Results_glc_screen[i].append(0)"
   ]
  },
  {
   "cell_type": "code",
   "execution_count": null,
   "metadata": {},
   "outputs": [],
   "source": [
    "fig = plt.figure(figsize=(8,4))\n",
    "ax = fig.add_subplot(111)\n",
    "ax.plot(glcs,Results_glc_screen[\"Mu\"],linewidth=3,alpha=0.6,color=\"black\")\n",
    "ax.legend([\"Monod curve\"],loc=\"upper left\",fontsize=12,frameon=False)\n",
    "ax2=ax.twinx()\n",
    "ax2.plot(glcs,[i for i in Results_glc_screen[\"M_ac\"]],linewidth=4,color=\"mediumseagreen\",alpha=0.9)\n",
    "ax2.plot(glcs,[-i for i in Results_glc_screen[\"M_o2\"]],linewidth=4,color=\"indianred\",alpha=0.9,linestyle=(0, (1, 1)))\n",
    "ax2.plot(glcs,[-i for i in Results_glc_screen[\"M_glc\"]],linewidth=4,color=\"steelblue\",alpha=0.9,linestyle=(0, (3, 1, 1, 1)))\n",
    "ax2.legend([\"$Acetate$ excretion\",\"$O_2$ uptake\",\"$Glucose$ uptake\"],loc=\"lower right\",fontsize=12,frameon=False)\n",
    "\n",
    "ax.set_title(\"Glucose dependent growth-rate and exchange fluxes\",fontsize=15)\n",
    "ax.set_xlabel(\"Glucose concentration (mM)\",fontsize=12)\n",
    "ax.tick_params(axis='y', labelcolor=\"dimgrey\")\n",
    "ax2.tick_params(axis='y', labelcolor=\"black\")\n",
    "ax.set_ylabel(\"Growth rate ($h^{-1}$)\",color=\"dimgrey\",fontsize=12)\n",
    "ax2.set_ylabel('Exchange fluxes ($\\\\frac{mmol}{h \\\\times g_{DW}}$)',color=\"black\",fontsize=12)\n",
    "plt.tight_layout()\n",
    "plt.show()"
   ]
  },
  {
   "cell_type": "markdown",
   "metadata": {},
   "source": [
    "## Variability Analysis on substrate exchange fluxes\n",
    "Here we iterate through a predefined list of growth rates (between 0 and the maximum wild-type growth rate) and determine the corresponding feasible ranges of glucose- and oxygen uptake. \n",
    "#### --> Relevant rbatools.rba_session.SessionRBA methods used here, are 'set_medium', 'set_growth_rate' and 'get_feasible_range'."
   ]
  },
  {
   "cell_type": "code",
   "execution_count": null,
   "metadata": {},
   "outputs": [],
   "source": [
    "print(Simulation.get_feasible_range.__doc__)"
   ]
  },
  {
   "cell_type": "code",
   "execution_count": null,
   "metadata": {},
   "outputs": [],
   "source": [
    "Simulation.reload_model()\n",
    "\n",
    "Simulation.set_medium({'M_glc':0.025})\n",
    "mumax=Simulation.find_max_growth_rate()\n",
    "Mus=[mumax*i for i in [0.01,0.05,0.1,0.15,0.2,0.25,0.3,0.35,0.4,0.45,0.5,0.55,0.6,0.65,0.7,0.75,0.8,0.85,0.9,0.95,0.975,0.9825,0.99,0.9925,0.995,0.9975,1]]\n",
    "Reactions_to_check=[\"R_EX_glc_e\",\"R_EX_o2_e\"]\n",
    "Feasible_Ranges=dict(zip(Reactions_to_check,[{\"Minima\":[],\"Maxima\":[]},{\"Minima\":[],\"Maxima\":[]}]))\n",
    "\n",
    "f = IntProgress(min=0, max=len(Mus)) # instantiate the bar\n",
    "display(f) # display the bar\n",
    "for mu in Mus:\n",
    "    f.value += 1 # signal to increment the progress bar\n",
    "    Simulation.set_growth_rate(mu)\n",
    "    Feasible_range=Simulation.get_feasible_range(variables=Reactions_to_check)\n",
    "    for rxn in Reactions_to_check:\n",
    "        Feasible_Ranges[rxn][\"Minima\"].append(Feasible_range[rxn]['Min'])\n",
    "        Feasible_Ranges[rxn][\"Maxima\"].append(Feasible_range[rxn]['Max'])"
   ]
  },
  {
   "cell_type": "code",
   "execution_count": null,
   "metadata": {},
   "outputs": [],
   "source": [
    "fig=plt.figure(figsize=(8,4))\n",
    "\n",
    "ax = fig.add_subplot(111)\n",
    "\n",
    "ax.fill_between(x=Mus,y1=Feasible_Ranges[\"R_EX_glc_e\"][\"Minima\"],y2=Feasible_Ranges[\"R_EX_glc_e\"][\"Maxima\"],interpolate=True,color='steelblue',alpha=0.25)\n",
    "ax.plot(Mus,Feasible_Ranges[\"R_EX_glc_e\"][\"Minima\"],color='steelblue',alpha=0.9,linewidth=2,linestyle=(0, (3, 1, 1, 1)))\n",
    "ax.plot(Mus,Feasible_Ranges[\"R_EX_glc_e\"][\"Maxima\"],color='steelblue',alpha=0.9,linewidth=2,linestyle=(0, (3, 1, 1, 1)))\n",
    "ax2=ax.twinx()\n",
    "ax2.fill_between(x=Mus,y1=Feasible_Ranges[\"R_EX_o2_e\"][\"Minima\"],y2=Feasible_Ranges[\"R_EX_o2_e\"][\"Maxima\"],interpolate=True,color='indianred',alpha=0.25)\n",
    "ax2.plot(Mus,Feasible_Ranges[\"R_EX_o2_e\"][\"Minima\"],color='indianred',alpha=0.9,linewidth=2,linestyle=(0, (1, 1)))\n",
    "ax2.plot(Mus,Feasible_Ranges[\"R_EX_o2_e\"][\"Maxima\"],color='indianred',alpha=0.9,linewidth=2,linestyle=(0, (1, 1)))\n",
    "\n",
    "ax.tick_params(axis='y', labelcolor=\"royalblue\")\n",
    "ax2.tick_params(axis='y', labelcolor=\"indianred\")\n",
    "ax.set_ylim(0.5,7.25)\n",
    "ax.set_yticks([1,2,3,4,5,6,7])\n",
    "#ax.set_xlim(0,0.335)\n",
    "ax2.set_ylim(1,24)\n",
    "ax2.set_yticks([5,10,15,20])\n",
    "#ax2.set_xlim(0,0.335)\n",
    "ax.set_xticks([0.05,0.1,0.15,0.2,0.25,0.3])\n",
    "ax2.set_xticks([0.05,0.1,0.15,0.2,0.25,0.3])\n",
    "ax.set_xticklabels([0.05,0.1,0.15,0.2,0.25,0.3])\n",
    "ax2.set_xticklabels([0.05,0.1,0.15,0.2,0.25,0.3])\n",
    "\n",
    "ax.set_ylabel('$Glucose$ $\\\\frac{mmol}{h \\\\times g_{DW}}$)',fontsize=12,color=\"steelblue\")\n",
    "ax2.set_ylabel('$O_2$ $\\\\frac{mmol}{h \\\\times g_{DW}}$)',fontsize=12,color=\"indianred\")\n",
    "\n",
    "plt.title('Feasible uptake fluxes, over (sub-optimal) growth-rates',fontsize=15)\n",
    "ax.set_xlabel('Growth-rate ($h^{-1}$)',fontsize=12)\n",
    "\n",
    "plt.tight_layout()\n",
    "plt.show()"
   ]
  },
  {
   "cell_type": "markdown",
   "metadata": {},
   "source": [
    "## Pareto front\n",
    "Here we investigate the pareto-efficient tradeoff between investment in additional ATP-expenditure and investment in additional (cytosolic) protein at different growth rates. In order to obtain an RBA-problem variable, representing the average cytosolic protein, we add a process (ID: P_Dummy_Cytosol and name: Dummy_process_Cytosol), without any function and a machinery composed of one average_protein_Cytoplasm, to the model and rebuild the session.\n",
    "\n",
    "Then we determine the maximum wild-type growth-rate and define several growth-rates between 0 and the maximum. For each of those we then determine the pareto-front between the  variables 'P_Dummy_Cytosol' and 'R_maintenance_atp'. \n",
    "#### --> Relevant rbatools.rba_session.SessionRBA methods used here, are 'find_max_growth_rate', 'set_growth_rate', 'get_current_parameter_value' and 'get_pareto_front'."
   ]
  },
  {
   "cell_type": "code",
   "execution_count": null,
   "metadata": {},
   "outputs": [],
   "source": [
    "Simulation.reload_model()\n",
    "\n",
    "test_process=rba.xml.processes.Process(id_=\"P_Dummy_Cytosol\",name=\"Dummy_process_Cytosol\")\n",
    "test_process.machinery.machinery_composition.reactants._elements.append(rba.xml.common.SpeciesReference(species=\"average_protein_Cytoplasm\", stoichiometry=1))\n",
    "Simulation.model.processes.processes.append(test_process)\n",
    "\n",
    "Simulation.rebuild_from_model()"
   ]
  },
  {
   "cell_type": "code",
   "execution_count": null,
   "metadata": {},
   "outputs": [],
   "source": [
    "print(Simulation.get_current_parameter_value.__doc__)"
   ]
  },
  {
   "cell_type": "code",
   "execution_count": null,
   "metadata": {},
   "outputs": [],
   "source": [
    "print(Simulation.get_pareto_front.__doc__)"
   ]
  },
  {
   "cell_type": "code",
   "execution_count": null,
   "metadata": {},
   "outputs": [],
   "source": [
    "Simulation.set_medium({'M_glc':0.025})\n",
    "mumax=Simulation.find_max_growth_rate(max=0.7)\n",
    "Results_Pareto={}\n",
    "total_AAconcentrations={}\n",
    "mus_pareto=[0.2,0.4,0.6,0.8]\n",
    "f = IntProgress(min=0, max=len(mus_pareto)) \n",
    "display(f) \n",
    "for i in mus_pareto:\n",
    "    f.value += 1 \n",
    "    Simulation.set_growth_rate(mumax*i)\n",
    "    total_AAconcentrations[i]=Simulation.get_current_parameter_value(parameter=\"amino_acid_concentration\")\n",
    "    PF=Simulation.get_pareto_front(variable_X=\"P_Dummy_Cytosol_machinery\", variable_Y=\"R_maintenance_atp\", N=100, sign_VY='max')\n",
    "    Results_Pareto[i]=PF    \n",
    "\n",
    "Prot=[]\n",
    "ATP=[]\n",
    "Muma=[]\n",
    "for i in Results_Pareto.keys():\n",
    "    Muma.append([int(i*100)]*Results_Pareto[i].shape[0])\n",
    "    ATP.append(list(Results_Pareto[i][\"R_maintenance_atp\"]))\n",
    "    Prot.append(list(Results_Pareto[i][\"P_Dummy_Cytosol_machinery\"]*284/total_AAconcentrations[i]))\n",
    "\n"
   ]
  },
  {
   "cell_type": "code",
   "execution_count": null,
   "metadata": {},
   "outputs": [],
   "source": [
    "def fmt(x):\n",
    "    s = f\"{x/100:.1f}\"\n",
    "    if s.endswith(\"0\"):\n",
    "        s = f\"{x:.0f}\"\n",
    "    return(s+\" $\\\\mu_{max}$\")\n",
    "\n",
    "fig=plt.figure(figsize=(8*0.92439,4.025*0.92439))\n",
    "ax = fig.add_subplot(111)\n",
    "\n",
    "CS20 =ax.contour(numpy.array(Prot), numpy.array(ATP), numpy.array(Muma),levels=[20],colors='dimgray',linewidths=1)\n",
    "CS40 =ax.contour(numpy.array(Prot), numpy.array(ATP), numpy.array(Muma),levels=[40],colors='dimgray',linewidths=1)\n",
    "CS60 =ax.contour(numpy.array(Prot), numpy.array(ATP), numpy.array(Muma),levels=[60],colors='dimgray',linewidths=1)\n",
    "CS80 =ax.contour(numpy.array(Prot), numpy.array(ATP), numpy.array(Muma),levels=[80],colors='dimgray',linewidths=1)\n",
    "\n",
    "labe20=ax.clabel(CS20, inline=True, fontsize=12,fmt=fmt ,rightside_up=False)\n",
    "labe40=ax.clabel(CS40, inline=True, fontsize=12,fmt=fmt)\n",
    "labe60=ax.clabel(CS60, inline=True, fontsize=12,fmt=fmt)\n",
    "labe80=ax.clabel(CS80, inline=True, fontsize=12,fmt=fmt)\n",
    "\n",
    "ax.set_ylim(8.8,36)\n",
    "ax.set_xlim(-0.002,0.54)\n",
    "ax.set_xticks([0.05,0.1,0.15,0.2,0.25,0.3,0.35,0.4,0.45,0.5])\n",
    "ax.set_xticklabels([\"{}%\".format(int(i*100)) for i in [0.05,0.1,0.15,0.2,0.25,0.3,0.35,0.4,0.45,0.5]])\n",
    "\n",
    "ax.set_title(\"Trade-off between protein- and ATP use vs. growth-rate\",fontsize=15)\n",
    "ax.set_ylabel(\"$ATP$-turnover ($\\\\frac{mmol}{h \\\\times g_{DW}}$)\",fontsize=12)\n",
    "ax.set_xlabel(\"Fraction of additional protein among total proteome\",fontsize=12)\n",
    "\n",
    "\n",
    "plt.tight_layout()\n",
    "plt.show()"
   ]
  },
  {
   "cell_type": "markdown",
   "metadata": {},
   "source": [
    "## Kapp sampling - global sensitivity analysis\n",
    "Here we sample N global sets of enzyme efficiencies, by drawing multiplicative factors for each enzyme's forward- and backward efficiency form a log-normal distribution (base: e). The wild-type efficiencies are then multiplied with this factor and the maximum growth-rate and corresponding exchange fluxes of glucose, oxygen and acetate are determined. \n",
    "\n",
    "#### --> Relevant rbatools.rba_session.SessionRBA methods used here, are 'add_parameter_multipliers_for_enzyme_efficiencies', 'set_medium' and 'sample_kapp_multipliers'."
   ]
  },
  {
   "cell_type": "code",
   "execution_count": null,
   "metadata": {},
   "outputs": [],
   "source": [
    "print(Simulation.add_parameter_multipliers_for_enzyme_efficiencies.__doc__)"
   ]
  },
  {
   "cell_type": "code",
   "execution_count": null,
   "metadata": {},
   "outputs": [],
   "source": [
    "print(Simulation.sample_kapp_multipliers.__doc__)"
   ]
  },
  {
   "cell_type": "code",
   "execution_count": null,
   "metadata": {},
   "outputs": [],
   "source": [
    "N_SAMPLES=15\n",
    "\n",
    "STDEV_SAMPLING=numpy.log(1.1)\n",
    "MEAN_SAMPLING=0\n",
    "\n",
    "Simulation.reload_model()\n",
    "enzymes=Simulation.add_parameter_multipliers_for_enzyme_efficiencies()\n",
    "Simulation.set_medium({'M_glc':0.025})\n",
    "\n",
    "KappScreenResults=Simulation.sample_kapp_multipliers(n=N_SAMPLES,mean=MEAN_SAMPLING,stdev=STDEV_SAMPLING,enzymes=enzymes,Variables_to_record=[\"R_EX_o2_e\"])\n",
    "\n"
   ]
  },
  {
   "cell_type": "code",
   "execution_count": null,
   "metadata": {},
   "outputs": [],
   "source": [
    "df=pandas.DataFrame(KappScreenResults)\n",
    "\n",
    "fig, ax= plt.subplots(2, 1,figsize=(4,4))\n",
    "\n",
    "seaborn.histplot(data=df.loc[(df[\"Mu\"]!=4)&(df[\"Mu\"]!=None)], x=\"Mu\",ax=ax[0],alpha=0.3,color=\"dimgray\", kde=False,line_kws={\"linewidth\":4,\"alpha\":1},bins=19,fill=True)\n",
    "ax[0].set_xlabel(\"Growth rate ($h^{-1}$)\")\n",
    "ax[0].set_yticks([])\n",
    "ax[0].set_ylabel(\"\")\n",
    "\n",
    "seaborn.histplot(data=df.loc[(df[\"R_EX_o2_e\"]!=None)], x=\"R_EX_o2_e\",ax=ax[1],alpha=0.3,color=\"indianred\", kde=False,line_kws={\"linewidth\":4,\"alpha\":1},bins=15,fill=True)\n",
    "ax[1].set_xlabel(\"$O_2$ uptake: ($\\\\frac{mmol}{h \\\\times g_{DW}}$)\")\n",
    "ax[1].set_yticks([])\n",
    "ax[1].set_ylabel(\"\")\n",
    "\n",
    "ax[0].set_title(\"Cellular state variability from sampled enzyme efficiencies\",fontsize=15)\n",
    "\n",
    "plt.tight_layout()\n",
    "plt.show()\n"
   ]
  }
 ],
 "metadata": {
  "kernelspec": {
   "display_name": "Python 3",
   "language": "python",
   "name": "python3"
  },
  "language_info": {
   "codemirror_mode": {
    "name": "ipython",
    "version": 3
   },
   "file_extension": ".py",
   "mimetype": "text/x-python",
   "name": "python",
   "nbconvert_exporter": "python",
   "pygments_lexer": "ipython3",
   "version": "3.6.5"
  }
 },
 "nbformat": 4,
 "nbformat_minor": 2
}
