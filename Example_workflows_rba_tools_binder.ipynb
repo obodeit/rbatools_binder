{
 "cells": [
  {
   "cell_type": "code",
   "execution_count": 1,
   "metadata": {},
   "outputs": [],
   "source": [
    "import matplotlib.pyplot as plt\n",
    "import matplotlib as mpl\n",
    "import pandas\n",
    "import numpy\n",
    "#import rba\n",
    "import seaborn\n",
    "from mpl_toolkits.axes_grid1.inset_locator import inset_axes\n",
    "from rbatools.rba_session import SessionRBA\n",
    "\n",
    "\n"
   ]
  },
  {
   "cell_type": "markdown",
   "metadata": {},
   "source": [
    "# General instructions on this notebook"
   ]
  },
  {
   "cell_type": "markdown",
   "metadata": {},
   "source": [
    "## Starting of session\n",
    "Here we initiate an rbatools.rba_session.SessionRBA with a model of B.subtilis. Variable 'model_filename' specifies where the RBA model is located and should be changed by the user. \n",
    "\n",
    "Upon initiation of session explicit exchange reactions for external metabolites are added, to facilitate conveinient acces to metabolite exchange rates.\n",
    "\n",
    "#### 'Bacterial-RBA-models' directory with different bacterial RBA models can be obtained from: https://github.com/SysBioInra/Bacterial-RBA-models\n",
    "\n",
    "#### --> Relevant rbatools.rba_ression.SessionRBA methods on used here, are '__init__' and 'add_exchange_reactions'."
   ]
  },
  {
   "cell_type": "code",
   "execution_count": null,
   "metadata": {},
   "outputs": [],
   "source": [
    "print(SessionRBA.__doc__)"
   ]
  },
  {
   "cell_type": "code",
   "execution_count": null,
   "metadata": {},
   "outputs": [],
   "source": [
    "print(SessionRBA.__init__.__doc__)"
   ]
  },
  {
   "cell_type": "code",
   "execution_count": null,
   "metadata": {},
   "outputs": [],
   "source": [
    "print(SessionRBA.add_exchange_reactions.__doc__)"
   ]
  },
  {
   "cell_type": "code",
   "execution_count": 2,
   "metadata": {},
   "outputs": [],
   "source": [
    "model_filename = 'models/Bacillus-subtilis-168-WT'\n",
    "Simulation = SessionRBA(model_filename,lp_solver=\"glpk\")\n",
    "Simulation.add_exchange_reactions()"
   ]
  },
  {
   "cell_type": "markdown",
   "metadata": {},
   "source": [
    "## Simulation-results handling\n",
    "Here we perform simple simulation runs and record the corresponding set of parameters and results.\n",
    "After we have performed all desired simulations (and did the corresponding recordings) we write them to Simulation results object. From those objects the results and parameters can be exported into various formats.\n",
    "#### --> Relevant rbatools.rba_session.SessionRBA methods used here, are 'find_max_growth_rate', 'record_results', 'record_parameters' and 'write_results'."
   ]
  },
  {
   "cell_type": "code",
   "execution_count": null,
   "metadata": {},
   "outputs": [],
   "source": [
    "print(Simulation.find_max_growth_rate.__doc__)"
   ]
  },
  {
   "cell_type": "code",
   "execution_count": null,
   "metadata": {},
   "outputs": [],
   "source": [
    "print(Simulation.record_results.__doc__)"
   ]
  },
  {
   "cell_type": "code",
   "execution_count": null,
   "metadata": {},
   "outputs": [],
   "source": [
    "print(Simulation.record_parameters.__doc__)"
   ]
  },
  {
   "cell_type": "code",
   "execution_count": null,
   "metadata": {},
   "outputs": [],
   "source": [
    "print(Simulation.write_results.__doc__)"
   ]
  },
  {
   "cell_type": "code",
   "execution_count": 3,
   "metadata": {},
   "outputs": [],
   "source": [
    "Simulation.find_max_growth_rate()\n",
    "Simulation.record_results(run_name=\"TestRun_1\")\n",
    "Simulation.record_parameters(run_name=\"TestRun_1\")\n",
    "\n",
    "Simulation.find_max_growth_rate()\n",
    "Simulation.record_results(run_name=\"TestRun_2\")\n",
    "Simulation.record_parameters(run_name=\"TestRun_2\")"
   ]
  },
  {
   "cell_type": "code",
   "execution_count": 4,
   "metadata": {},
   "outputs": [],
   "source": [
    "Simulation.write_results(session_name=\"TestSession\")"
   ]
  },
  {
   "cell_type": "markdown",
   "metadata": {},
   "source": [
    "## Simulation-results export\n",
    "Here we export results and parameters into various formats, from the previously written data.\n",
    "#### --> Relevant rbatools.rba_SimulationData.RBA_SimulationData methods used here, are 'export_sbtab', 'export_csv', 'export_escher_map' and 'export_proteo_map'."
   ]
  },
  {
   "cell_type": "code",
   "execution_count": null,
   "metadata": {},
   "outputs": [],
   "source": [
    "print(Simulation.SimulationData.export_sbtab.__doc__)"
   ]
  },
  {
   "cell_type": "code",
   "execution_count": null,
   "metadata": {},
   "outputs": [],
   "source": [
    "print(Simulation.SimulationData.export_csv.__doc__)"
   ]
  },
  {
   "cell_type": "code",
   "execution_count": null,
   "metadata": {},
   "outputs": [],
   "source": [
    "print(Simulation.SimulationData.export_escher_map.__doc__)"
   ]
  },
  {
   "cell_type": "code",
   "execution_count": null,
   "metadata": {},
   "outputs": [],
   "source": [
    "print(Simulation.SimulationData.export_proteo_map.__doc__)"
   ]
  },
  {
   "cell_type": "code",
   "execution_count": 5,
   "metadata": {},
   "outputs": [],
   "source": [
    "Simulation.SimulationData.export_sbtab(filename=\"Test_SimulationResults_SBtab\",add_links=False)\n",
    "Simulation.SimulationData.export_csv()\n",
    "Simulation.SimulationData.export_escher_map(type=\"fluxes\")\n",
    "Simulation.SimulationData.export_escher_map(type=\"investment\")\n",
    "Simulation.SimulationData.export_proteo_map(type='proto')\n",
    "Simulation.SimulationData.export_proteo_map(type='isoforms')"
   ]
  },
  {
   "cell_type": "code",
   "execution_count": null,
   "metadata": {},
   "outputs": [],
   "source": [
    "print(Simulation.SimulationParameters.export_sbtab.__doc__)"
   ]
  },
  {
   "cell_type": "code",
   "execution_count": 6,
   "metadata": {},
   "outputs": [
    {
     "ename": "SBtabError",
     "evalue": "Attribute Date is not in the header of the SBtabTable.",
     "output_type": "error",
     "traceback": [
      "\u001b[0;31m---------------------------------------------------------------------------\u001b[0m",
      "\u001b[0;31mSBtabError\u001b[0m                                Traceback (most recent call last)",
      "\u001b[0;32m<ipython-input-6-7c842f83c34b>\u001b[0m in \u001b[0;36m<module>\u001b[0;34m\u001b[0m\n\u001b[0;32m----> 1\u001b[0;31m \u001b[0mSimulation\u001b[0m\u001b[0;34m.\u001b[0m\u001b[0mSimulationParameters\u001b[0m\u001b[0;34m.\u001b[0m\u001b[0mexport_sbtab\u001b[0m\u001b[0;34m(\u001b[0m\u001b[0mfilename\u001b[0m\u001b[0;34m=\u001b[0m\u001b[0;34m\"Test_SimulationParameters_SBtab\"\u001b[0m\u001b[0;34m)\u001b[0m\u001b[0;34m\u001b[0m\u001b[0m\n\u001b[0m",
      "\u001b[0;32m~/Desktop/RBA_tools_WIP/rbatools/rba_simulation_parameters.py\u001b[0m in \u001b[0;36mexport_sbtab\u001b[0;34m(self, filename, return_result)\u001b[0m\n\u001b[1;32m    107\u001b[0m             'Text', 'Enzyme forward capacities (relating enzyme concentrations to reaction rates) may depend on model parameters such as growth rate and will therefore vary between simulation runs.')\n\u001b[1;32m    108\u001b[0m         \u001b[0mEnzymeCapacitiesTable_FW\u001b[0m\u001b[0;34m.\u001b[0m\u001b[0mchange_attribute\u001b[0m\u001b[0;34m(\u001b[0m\u001b[0;34m'TableID'\u001b[0m\u001b[0;34m,\u001b[0m \u001b[0;34m'enzyme_forward_capacity'\u001b[0m\u001b[0;34m)\u001b[0m\u001b[0;34m\u001b[0m\u001b[0m\n\u001b[0;32m--> 109\u001b[0;31m         \u001b[0mEnzymeCapacitiesTable_FW\u001b[0m\u001b[0;34m.\u001b[0m\u001b[0munset_attribute\u001b[0m\u001b[0;34m(\u001b[0m\u001b[0;34m'Date'\u001b[0m\u001b[0;34m)\u001b[0m\u001b[0;34m\u001b[0m\u001b[0m\n\u001b[0m\u001b[1;32m    110\u001b[0m         \u001b[0mEnzymeCapacitiesTable_FW\u001b[0m\u001b[0;34m.\u001b[0m\u001b[0munset_attribute\u001b[0m\u001b[0;34m(\u001b[0m\u001b[0;34m'SBtabVersion'\u001b[0m\u001b[0;34m)\u001b[0m\u001b[0;34m\u001b[0m\u001b[0m\n\u001b[1;32m    111\u001b[0m \u001b[0;34m\u001b[0m\u001b[0m\n",
      "\u001b[0;32m/usr/local/lib/python3.6/site-packages/sbtab/SBtab.py\u001b[0m in \u001b[0;36munset_attribute\u001b[0;34m(self, attribute)\u001b[0m\n\u001b[1;32m    577\u001b[0m                 \u001b[0;32mraise\u001b[0m \u001b[0mSBtabError\u001b[0m\u001b[0;34m(\u001b[0m\u001b[0;34m'Attribute %s cannot be removed.'\u001b[0m \u001b[0;34m%\u001b[0m \u001b[0mattribute\u001b[0m\u001b[0;34m)\u001b[0m\u001b[0;34m\u001b[0m\u001b[0m\n\u001b[1;32m    578\u001b[0m         \u001b[0;32melse\u001b[0m\u001b[0;34m:\u001b[0m\u001b[0;34m\u001b[0m\u001b[0m\n\u001b[0;32m--> 579\u001b[0;31m             \u001b[0;32mraise\u001b[0m \u001b[0mSBtabError\u001b[0m\u001b[0;34m(\u001b[0m\u001b[0;34m'Attribute %s is not in the header of the SBtabTable.'\u001b[0m \u001b[0;34m%\u001b[0m \u001b[0mattribute\u001b[0m\u001b[0;34m)\u001b[0m\u001b[0;34m\u001b[0m\u001b[0m\n\u001b[0m\u001b[1;32m    580\u001b[0m \u001b[0;34m\u001b[0m\u001b[0m\n\u001b[1;32m    581\u001b[0m     \u001b[0;32mdef\u001b[0m \u001b[0mget_attribute\u001b[0m\u001b[0;34m(\u001b[0m\u001b[0mself\u001b[0m\u001b[0;34m,\u001b[0m \u001b[0mattribute\u001b[0m\u001b[0;34m)\u001b[0m\u001b[0;34m:\u001b[0m\u001b[0;34m\u001b[0m\u001b[0m\n",
      "\u001b[0;31mSBtabError\u001b[0m: Attribute Date is not in the header of the SBtabTable."
     ]
    }
   ],
   "source": [
    "Simulation.SimulationParameters.export_sbtab(filename=\"Test_SimulationParameters_SBtab\")"
   ]
  },
  {
   "cell_type": "markdown",
   "metadata": {},
   "source": [
    "## Glucose screen\n",
    "Here we iterate through a predefined list of glucose concentrations (glcs) and determine the corresponding maximum growth-rates and optimal configuration of exchange fluxes. Maximum growth-rate vs. glucose results in  a Monod curve\n",
    "#### --> Relevant rbatools.rba_session.SessionRBA methods used here, are 'set_medium', 'find_max_growth_rate' and 'return_exchange_fluxes'."
   ]
  },
  {
   "cell_type": "code",
   "execution_count": null,
   "metadata": {},
   "outputs": [],
   "source": [
    "print(Simulation.reload_model.__doc__)"
   ]
  },
  {
   "cell_type": "code",
   "execution_count": null,
   "metadata": {},
   "outputs": [],
   "source": [
    "print(Simulation.set_medium.__doc__)"
   ]
  },
  {
   "cell_type": "code",
   "execution_count": null,
   "metadata": {},
   "outputs": [],
   "source": [
    "print(Simulation.find_max_growth_rate.__doc__)"
   ]
  },
  {
   "cell_type": "code",
   "execution_count": null,
   "metadata": {},
   "outputs": [],
   "source": [
    "print(Simulation.return_exchange_fluxes.__doc__)"
   ]
  },
  {
   "cell_type": "code",
   "execution_count": null,
   "metadata": {},
   "outputs": [],
   "source": [
    "Simulation.reload_model()\n",
    "\n",
    "glcs=[0.005+(i*0.0025) for i in range(27)]\n",
    "Results_glc_screen={\"Mu\":[],\"M_glc\":[],\"M_o2\":[],\"M_ac\":[]}\n",
    "for glc_conc in glcs:\n",
    "    Simulation.set_medium({'M_glc':glc_conc})\n",
    "    mumax=Simulation.find_max_growth_rate(max=1.0)\n",
    "    J_ex=Simulation.return_exchange_fluxes()\n",
    "    for i in Results_glc_screen.keys():\n",
    "        if i ==\"Mu\":\n",
    "            Results_glc_screen[\"Mu\"].append(mumax)\n",
    "        else:\n",
    "            Results_glc_screen[i].append(J_ex[i])"
   ]
  },
  {
   "cell_type": "code",
   "execution_count": null,
   "metadata": {},
   "outputs": [],
   "source": [
    "fig = plt.figure(figsize=(8,4))\n",
    "ax = fig.add_subplot(111)\n",
    "ax.plot(glcs,Results_glc_screen[\"Mu\"],linewidth=5,alpha=0.6,color=\"dimgray\")\n",
    "ax.legend([\"Monod curve\"],loc=\"upper left\",fontsize=12,frameon=False)\n",
    "ax.plot(glcs,Results_glc_screen[\"Mu\"],linewidth=13,alpha=0.6,color=\"gainsboro\")\n",
    "ax.plot(glcs,Results_glc_screen[\"Mu\"],linewidth=10,alpha=0.6,color=\"lightgray\")\n",
    "ax.plot(glcs,Results_glc_screen[\"Mu\"],linewidth=7,alpha=0.6,color=\"silver\")\n",
    "ax.plot(glcs,Results_glc_screen[\"Mu\"],linewidth=5,alpha=0.6,color=\"gray\")\n",
    "ax.plot(glcs,Results_glc_screen[\"Mu\"],linewidth=2,alpha=0.6,color=\"dimgray\")\n",
    "ax.plot(glcs,Results_glc_screen[\"Mu\"],linewidth=1,alpha=0.6,color=\"black\")\n",
    "ax2=ax.twinx()\n",
    "ax2.plot(glcs,[i for i in Results_glc_screen[\"M_ac\"]],linewidth=4,color=\"mediumseagreen\",alpha=0.9)\n",
    "ax2.plot(glcs,[-i for i in Results_glc_screen[\"M_o2\"]],linewidth=4,color=\"indianred\",alpha=0.9,linestyle=(0, (1, 1)))\n",
    "ax2.plot(glcs,[-i for i in Results_glc_screen[\"M_glc\"]],linewidth=4,color=\"steelblue\",alpha=0.9,linestyle=(0, (3, 1, 1, 1)))\n",
    "ax2.legend([\"$Acetate$ excretion\",\"$O_2$ uptake\",\"$Glucose$ uptake\"],loc=\"lower right\",fontsize=12,frameon=False)\n",
    "\n",
    "ax.set_title(\"Glucose dependent growth-rate and exchange fluxes\",fontsize=15)\n",
    "ax.set_xlabel(\"Glucose concentration (mM)\",fontsize=12)\n",
    "#ax.set_ylim(-0.01,0.69)\n",
    "#ax.set_xlim(0.004,0.075)\n",
    "ax.tick_params(axis='y', labelcolor=\"dimgrey\")\n",
    "ax2.tick_params(axis='y', labelcolor=\"black\")\n",
    "ax.set_ylabel(\"Growth rate ($h^{-1}$)\",color=\"dimgrey\",fontsize=12)\n",
    "ax2.set_ylabel('Exchange fluxes ($\\\\frac{mmol}{h \\\\times g_{DW}}$)',color=\"black\",fontsize=12)\n",
    "#ax2.set_ylim(-0.2,15.6)\n",
    "plt.tight_layout()\n",
    "plt.show()\n",
    "\n"
   ]
  },
  {
   "cell_type": "markdown",
   "metadata": {},
   "source": [
    "## Search for minimal required glucose concentration at different growth rates\n",
    "Here we iterate through a predefined list of growth rates and determine the corresponding required concentration of glucose. Results in a Monod curve with switched axes.\n",
    "#### --> Relevant rbatools.rba_session.SessionRBA methods used here, are 'set_growth_rate' and 'find_min_substrate_concentration'."
   ]
  },
  {
   "cell_type": "code",
   "execution_count": null,
   "metadata": {},
   "outputs": [],
   "source": [
    "print(Simulation.set_growth_rate.__doc__)"
   ]
  },
  {
   "cell_type": "code",
   "execution_count": null,
   "metadata": {},
   "outputs": [],
   "source": [
    "print(Simulation.find_min_substrate_concentration.__doc__)"
   ]
  },
  {
   "cell_type": "code",
   "execution_count": null,
   "metadata": {},
   "outputs": [],
   "source": [
    "Simulation.reload_model()\n",
    "mus=[(i+1)*0.025 for i in range(25)]\n",
    "glcs=[]\n",
    "for mu in mus:\n",
    "    Simulation.set_growth_rate(mu)\n",
    "    glcs.append(Simulation.find_min_substrate_concentration(metabolite=\"M_glc\", precision=0.001, max=1.0))\n",
    "    \n",
    "    \n",
    "    "
   ]
  },
  {
   "cell_type": "code",
   "execution_count": null,
   "metadata": {},
   "outputs": [],
   "source": [
    "fig=plt.figure(figsize=(6,4))\n",
    "ax = fig.add_subplot(111)\n",
    "\n",
    "#ax.plot(mus,glcs)\n",
    "ax.scatter(mus,glcs,s=20)\n",
    "ax.set_title(\"Minimal required glucose concentration vs growth rate\")\n",
    "ax.set_ylabel(\"Glucose concentration ($mM$)\",fontsize=12, labelpad=0.1)\n",
    "ax.set_xlabel(\"Growth rate ($h^{-1}$)\",fontsize=12, labelpad=1.5)\n",
    "ax.set_ylim(0,0.1)\n",
    "plt.show()"
   ]
  },
  {
   "cell_type": "markdown",
   "metadata": {},
   "source": [
    "## Variability Analysis on substrate exchange fluxes\n",
    "Here we iterate through a predefined list of growth rates (between 0 and the maximum wild-type growth rate) and determine the corresponding feasible ranges of glucose- and oxygen uptake. \n",
    "#### --> Relevant rbatools.rba_session.SessionRBA methods used here, are 'set_medium', 'set_growth_rate' and 'get_feasible_range'."
   ]
  },
  {
   "cell_type": "code",
   "execution_count": null,
   "metadata": {},
   "outputs": [],
   "source": [
    "print(Simulation.get_feasible_range.__doc__)"
   ]
  },
  {
   "cell_type": "code",
   "execution_count": null,
   "metadata": {},
   "outputs": [],
   "source": [
    "Simulation.reload_model()\n",
    "\n",
    "Simulation.set_medium({'M_glc':0.025})\n",
    "mumax=Simulation.find_max_growth_rate()\n",
    "Mus=[mumax*i for i in [0.01,0.025,0.05,0.075,0.1,0.125,0.15,0.175,0.2,0.225,0.25,0.275,0.3,0.325,0.35,0.375,0.4,0.425,0.45,0.475,0.5,0.525,0.55,0.575,0.6,0.625,0.65,0.675,0.7,0.725,0.75,0.775,0.8,0.825,0.85,0.875,0.9,0.925,0.95,0.975,0.9825,0.99,0.9925,0.995,0.9975,1]]\n",
    "Reactions_to_check=[\"R_EX_glc_e\",\"R_EX_o2_e\",\"R_EX_ac_e\"]\n",
    "Feasible_Ranges=dict(zip(Reactions_to_check,[{\"Minima\":[],\"Maxima\":[]},{\"Minima\":[],\"Maxima\":[]},{\"Minima\":[],\"Maxima\":[]}]))\n",
    "\n",
    "for mu in Mus:\n",
    "    Simulation.set_growth_rate(mu)\n",
    "    Feasible_range=Simulation.get_feasible_range(variables=Reactions_to_check)\n",
    "    for rxn in Reactions_to_check:\n",
    "        Feasible_Ranges[rxn][\"Minima\"].append(Feasible_range[rxn]['Min'])\n",
    "        Feasible_Ranges[rxn][\"Maxima\"].append(Feasible_range[rxn]['Max'])"
   ]
  },
  {
   "cell_type": "code",
   "execution_count": null,
   "metadata": {},
   "outputs": [],
   "source": [
    "fig=plt.figure(figsize=(8,4))\n",
    "\n",
    "ax = fig.add_subplot(111)\n",
    "\n",
    "ax.fill_between(x=Mus,y1=Feasible_Ranges[\"R_EX_glc_e\"][\"Minima\"],y2=Feasible_Ranges[\"R_EX_glc_e\"][\"Maxima\"],interpolate=True,color='steelblue',alpha=0.25)\n",
    "ax.plot(Mus,Feasible_Ranges[\"R_EX_glc_e\"][\"Minima\"],color='steelblue',alpha=0.9,linewidth=2,linestyle=(0, (3, 1, 1, 1)))\n",
    "ax.plot(Mus,Feasible_Ranges[\"R_EX_glc_e\"][\"Maxima\"],color='steelblue',alpha=0.9,linewidth=2,linestyle=(0, (3, 1, 1, 1)))\n",
    "ax2=ax.twinx()\n",
    "ax2.fill_between(x=Mus,y1=Feasible_Ranges[\"R_EX_o2_e\"][\"Minima\"],y2=Feasible_Ranges[\"R_EX_o2_e\"][\"Maxima\"],interpolate=True,color='indianred',alpha=0.25)\n",
    "ax2.plot(Mus,Feasible_Ranges[\"R_EX_o2_e\"][\"Minima\"],color='indianred',alpha=0.9,linewidth=2,linestyle=(0, (1, 1)))\n",
    "ax2.plot(Mus,Feasible_Ranges[\"R_EX_o2_e\"][\"Maxima\"],color='indianred',alpha=0.9,linewidth=2,linestyle=(0, (1, 1)))\n",
    "\n",
    "ax.tick_params(axis='y', labelcolor=\"royalblue\")\n",
    "ax2.tick_params(axis='y', labelcolor=\"indianred\")\n",
    "ax.set_ylim(0.5,7.25)\n",
    "ax.set_yticks([1,2,3,4,5,6,7])\n",
    "#ax.set_xlim(0,0.335)\n",
    "ax2.set_ylim(1,24)\n",
    "ax2.set_yticks([5,10,15,20])\n",
    "#ax2.set_xlim(0,0.335)\n",
    "ax.set_xticks([0.05,0.1,0.15,0.2,0.25,0.3])\n",
    "ax2.set_xticks([0.05,0.1,0.15,0.2,0.25,0.3])\n",
    "ax.set_xticklabels([0.05,0.1,0.15,0.2,0.25,0.3])\n",
    "ax2.set_xticklabels([0.05,0.1,0.15,0.2,0.25,0.3])\n",
    "\n",
    "ax.set_ylabel('$Glucose$ $\\\\frac{mmol}{h \\\\times g_{DW}}$)',fontsize=12,color=\"steelblue\")\n",
    "ax2.set_ylabel('$O_2$ $\\\\frac{mmol}{h \\\\times g_{DW}}$)',fontsize=12,color=\"indianred\")\n",
    "\n",
    "plt.title('Feasible uptake fluxes, over (sub-optimal) growth-rates',fontsize=15)\n",
    "ax.set_xlabel('Growth-rate ($h^{-1}$)',fontsize=12)\n",
    "\n",
    "plt.tight_layout()\n",
    "plt.show()\n",
    "\n",
    "\n"
   ]
  },
  {
   "cell_type": "markdown",
   "metadata": {},
   "source": [
    "## Pareto front\n",
    "Here we investigate the pareto-efficient tradeoff between investment in additional ATP-expenditure and investment in additional (cytosolic) protein at different growth rates. In order to obtain an RBA-problem variable, representing the average cytosolic protein, we add a process (ID: P_Dummy_Cytosol and name: Dummy_process_Cytosol), without any function and a machinery composed of one average_protein_Cytoplasm, to the model and rebuild the session.\n",
    "\n",
    "Then we determine the maximum wild-type growth-rate and define several growth-rates between 0 and the maximum. For each of those we then determine the pareto-front between the  variables 'P_Dummy_Cytosol' and 'R_maintenance_atp'. \n",
    "#### --> Relevant rbatools.rba_session.SessionRBA methods used here, are 'find_max_growth_rate', 'set_growth_rate', 'get_current_parameter_value' and 'get_pareto_front'."
   ]
  },
  {
   "cell_type": "code",
   "execution_count": null,
   "metadata": {},
   "outputs": [],
   "source": [
    "Simulation.reload_model()\n",
    "\n",
    "test_process=rba.xml.processes.Process(id_=\"P_Dummy_Cytosol\",name=\"Dummy_process_Cytosol\")\n",
    "test_process.machinery.machinery_composition.reactants._elements.append(rba.xml.common.SpeciesReference(species=\"average_protein_Cytoplasm\", stoichiometry=1))\n",
    "Simulation.model.processes.processes.append(test_process)\n",
    "\n",
    "Simulation.rebuild_from_model()\n",
    "\n",
    "\n"
   ]
  },
  {
   "cell_type": "code",
   "execution_count": null,
   "metadata": {},
   "outputs": [],
   "source": [
    "print(Simulation.get_current_parameter_value.__doc__)"
   ]
  },
  {
   "cell_type": "code",
   "execution_count": null,
   "metadata": {},
   "outputs": [],
   "source": [
    "print(Simulation.get_pareto_front.__doc__)"
   ]
  },
  {
   "cell_type": "code",
   "execution_count": null,
   "metadata": {},
   "outputs": [],
   "source": [
    "Simulation.set_medium({'M_glc':0.025})\n",
    "mumax=Simulation.find_max_growth_rate(max=1.0)\n",
    "Results_Pareto={}\n",
    "total_AAconcentrations={}\n",
    "for i in [0.001,0.01,0.1,0.2,0.3,0.4,0.5,0.6,0.7,0.8,0.9,0.99]:\n",
    "    Simulation.set_growth_rate(mumax*i)\n",
    "    total_AAconcentrations[i]=Simulation.get_current_parameter_value(parameter=\"amino_acid_concentration\")\n",
    "    PF=Simulation.get_pareto_front(variable_X=\"P_Dummy_Cytosol_machinery\", variable_Y=\"R_maintenance_atp\", N=100, sign_VY='max')\n",
    "    Results_Pareto[i]=PF    \n",
    "\n",
    "Prot=[]\n",
    "ATP=[]\n",
    "Muma=[]\n",
    "for i in Results_Pareto.keys():\n",
    "    Muma.append([int(i*100)]*Results_Pareto[i].shape[0])\n",
    "    ATP.append(list(Results_Pareto[i][\"R_maintenance_atp\"]))\n",
    "    Prot.append(list(Results_Pareto[i][\"P_Dummy_Cytosol_machinery\"]*284/total_AAconcentrations[i]))\n",
    "\n"
   ]
  },
  {
   "cell_type": "code",
   "execution_count": null,
   "metadata": {},
   "outputs": [],
   "source": [
    "import matplotlib as mpl\n",
    "\n",
    "def fmt(x):\n",
    "    s = f\"{x/100:.1f}\"\n",
    "    if s.endswith(\"0\"):\n",
    "        s = f\"{x:.0f}\"\n",
    "    return(s+\" $\\\\mu_{max}$\")\n",
    "\n",
    "fig=plt.figure(figsize=(8*0.92439,4.025*0.92439))\n",
    "ax = fig.add_subplot(111)\n",
    "#ax.contourf(numpy.array(Prot), numpy.array(ATP), numpy.array(Muma),1000, cmap='Blues')\n",
    "ax.contourf(numpy.array(Prot), numpy.array(ATP), numpy.array(Muma),1000, cmap='gist_yarg')\n",
    "CS10 =ax.contour(numpy.array(Prot), numpy.array(ATP), numpy.array(Muma),levels=[10],colors='dimgray',linewidths=1)\n",
    "CS20 =ax.contour(numpy.array(Prot), numpy.array(ATP), numpy.array(Muma),levels=[20],colors='dimgray',linewidths=1)\n",
    "CS30 =ax.contour(numpy.array(Prot), numpy.array(ATP), numpy.array(Muma),levels=[30],colors='dimgray',linewidths=1)\n",
    "CS40 =ax.contour(numpy.array(Prot), numpy.array(ATP), numpy.array(Muma),levels=[40],colors='lightgrey',linewidths=1)\n",
    "CS50 =ax.contour(numpy.array(Prot), numpy.array(ATP), numpy.array(Muma),levels=[50],colors='lightgrey',linewidths=1)\n",
    "CS60 =ax.contour(numpy.array(Prot), numpy.array(ATP), numpy.array(Muma),levels=[60],colors='lightgrey',linewidths=1)\n",
    "CS70 =ax.contour(numpy.array(Prot), numpy.array(ATP), numpy.array(Muma),levels=[70],colors='gainsboro',linewidths=1)\n",
    "CS80 =ax.contour(numpy.array(Prot), numpy.array(ATP), numpy.array(Muma),levels=[80],colors='gainsboro',linewidths=1)\n",
    "CS90 =ax.contour(numpy.array(Prot), numpy.array(ATP), numpy.array(Muma),levels=[90],colors='gainsboro',linewidths=1)\n",
    "\n",
    "#manual_locations_cs3 = [(0.03,Results_Pareto[i].loc[0,\"R_maintenance_atp\"]) for i in [0.9]]\n",
    "labe20=ax.clabel(CS20, inline=True, fontsize=12,fmt=fmt ,rightside_up=False)\n",
    "labe40=ax.clabel(CS40, inline=True, fontsize=12,fmt=fmt)\n",
    "labe60=ax.clabel(CS60, inline=True, fontsize=12,fmt=fmt)\n",
    "labe80=ax.clabel(CS80, inline=True, fontsize=12,fmt=fmt)\n",
    "#ax.clabel(CS2, inline=True, fontsize=10,fmt=fmt)\n",
    "#ax.clabel(CS3, inline=True, fontsize=10,fmt=fmt,manual=manual_locations_cs3)\n",
    "#ax.plot(list(Results_Pareto[0.99][\"P_Dummy_Cytosol_machinery\"]*284/total_AAconcentrations[0.99]),list(Results_Pareto[0.99][\"R_maintenance_atp\"]),color=\"orange\",linewidth=5,alpha=1)\n",
    "ax.fill_between(x=list(Results_Pareto[0.99][\"P_Dummy_Cytosol_machinery\"]*284/total_AAconcentrations[0.99]),y1=[min(list(Results_Pareto[0.99][\"R_maintenance_atp\"]))]*len(list(Results_Pareto[0.99][\"P_Dummy_Cytosol_machinery\"])),y2=list(Results_Pareto[0.99][\"R_maintenance_atp\"]),interpolate=True,color='orange',alpha=1)\n",
    "\n",
    "ax.set_ylim(8.8,36)\n",
    "ax.set_xlim(-0.002,0.54)\n",
    "ax.set_xticks([0.05,0.1,0.15,0.2,0.25,0.3,0.35,0.4,0.45,0.5])\n",
    "ax.set_xticklabels([\"{}%\".format(int(i*100)) for i in [0.05,0.1,0.15,0.2,0.25,0.3,0.35,0.4,0.45,0.5]])\n",
    "\n",
    "#ax.set_title(\"Trade-off between additional protein-use and ATP-turnover\",fontsize=15)\n",
    "ax.set_title(\"Trade-off between protein- and ATP use vs. growth-rate\",fontsize=15)\n",
    "#ax.set_title(\"Trade-off of added protein- or ATP-demand and growth-rate\",fontsize=15)\n",
    "ax.set_ylabel(\"$ATP$-turnover ($\\\\frac{mmol}{h \\\\times g_{DW}}$)\",fontsize=12)\n",
    "#ax.set_xlabel(\"Cytosolic protein ($mmol_{AA} \\\\times g^{-1}_{DW}$)\",fontsize=12)\n",
    "ax.set_xlabel(\"Fraction of additional protein among total proteome\",fontsize=12)\n",
    "\n",
    "\n",
    "plt.tight_layout()\n",
    "plt.show()"
   ]
  },
  {
   "cell_type": "markdown",
   "metadata": {},
   "source": [
    "## Kapp sampling - global sensitivity analysis\n",
    "Here we sample N global sets of enzyme efficiencies, by drawing multiplicative factors for each enzyme's forward- and backward efficiency form a log-normal distribution (base: e). The wild-type efficiencies are then multiplied with this factor and the maximum growth-rate and corresponding exchange fluxes of glucose, oxygen and acetate are determined. \n",
    "\n",
    "#### --> Relevant rbatools.rba_session.SessionRBA methods used here, are 'add_parameter_multipliers_for_enzyme_efficiencies', 'set_medium' and 'sample_kapp_multipliers'."
   ]
  },
  {
   "cell_type": "code",
   "execution_count": null,
   "metadata": {},
   "outputs": [],
   "source": [
    "print(Simulation.add_parameter_multipliers_for_enzyme_efficiencies.__doc__)"
   ]
  },
  {
   "cell_type": "code",
   "execution_count": null,
   "metadata": {},
   "outputs": [],
   "source": [
    "print(Simulation.sample_kapp_multipliers.__doc__)"
   ]
  },
  {
   "cell_type": "code",
   "execution_count": null,
   "metadata": {},
   "outputs": [],
   "source": [
    "STDEV_SAMPLING=numpy.log(1.1)\n",
    "MEAN_SAMPLING=0\n",
    "\n",
    "fig=plt.figure(figsize=(5,4))\n",
    "ax = fig.add_subplot(111)\n",
    "ax=plt.hist([numpy.e**j for j in list(numpy.random.normal(loc=MEAN_SAMPLING,scale=STDEV_SAMPLING,size=500000))],200)\n",
    "#plt.xlim(0,6)\n",
    "plt.title(\"Multiplicative scaling factors\",fontsize=15)\n",
    "plt.xlabel(\"(Multiplicative) scaling factor\",fontsize=12)\n",
    "plt.ylabel(\"Frequency\",fontsize=12)\n",
    "plt.savefig(\"GlobalSensitivity_Noise.png\",dpi=400)\n",
    "plt.show()"
   ]
  },
  {
   "cell_type": "code",
   "execution_count": null,
   "metadata": {},
   "outputs": [],
   "source": [
    "N_SAMPLES=3\n",
    "\n",
    "Simulation.reload_model()\n",
    "enzymes=Simulation.add_parameter_multipliers_for_enzyme_efficiencies()\n",
    "Simulation.set_medium({'M_glc':0.025})\n",
    "\n",
    "KappScreenResults=Simulation.sample_kapp_multipliers(n=N_SAMPLES,mean=MEAN_SAMPLING,stdev=STDEV_SAMPLING,enzymes=enzymes,Variables_to_record=[\"R_EX_glc_e\",\"R_EX_ac_e\",\"R_EX_o2_e\"])\n",
    "\n"
   ]
  },
  {
   "cell_type": "code",
   "execution_count": null,
   "metadata": {},
   "outputs": [],
   "source": [
    "df=pandas.DataFrame(KappScreenResults)\n",
    "\n",
    "fig, ax= plt.subplots(4, 1,figsize=(8,8))\n",
    "\n",
    "seaborn.histplot(data=df.loc[(df[\"Mu\"]!=4)&(df[\"Mu\"]!=None)], x=\"Mu\",ax=ax[0],alpha=0.3,color=\"dimgray\", kde=False,line_kws={\"linewidth\":4,\"alpha\":1},bins=19,fill=True)\n",
    "ax[0].legend([\"Growth rate ($h^{-1}$)\"],frameon=False,loc=\"upper right\",fontsize=13)\n",
    "ax[0].set_yticks([])\n",
    "ax[0].set_ylabel(\"\")\n",
    "ax[0].set_xlabel(\"\")\n",
    "\n",
    "seaborn.histplot(data=df.loc[(df[\"R_EX_o2_e\"]!=None)], x=\"R_EX_o2_e\",ax=ax[1],alpha=0.3,color=\"indianred\", kde=False,line_kws={\"linewidth\":4,\"alpha\":1},bins=15,fill=True)\n",
    "ax[1].legend([\"$O_2$ uptake: ($\\\\frac{mmol}{h \\\\times g_{DW}}$)\"],frameon=False,loc=\"upper right\",fontsize=13)\n",
    "ax[1].set_yticks([])\n",
    "ax[1].set_ylabel(\"\")\n",
    "ax[1].set_xlabel(\"\")\n",
    "\n",
    "seaborn.histplot(data=df.loc[(df[\"R_EX_glc_e\"]!=None)], x=\"R_EX_glc_e\",ax=ax[2],alpha=0.3,color=\"steelblue\", kde=False,line_kws={\"linewidth\":4,\"alpha\":1},bins=20,fill=True)\n",
    "ax[2].legend([\"$Glucose$ uptake: ($\\\\frac{mmol}{h \\\\times g_{DW}}$)\"],frameon=False,loc=\"upper right\",fontsize=13)\n",
    "ax[2].set_yticks([])\n",
    "ax[2].set_ylabel(\"\")\n",
    "ax[2].set_xlabel(\"\")\n",
    "\n",
    "seaborn.histplot(data=-df.loc[(df[\"R_EX_ac_e\"]!=None)], x=\"R_EX_ac_e\",ax=ax[3],alpha=0.3,color=\"mediumseagreen\", kde=False,line_kws={\"linewidth\":4,\"alpha\":1},bins=30,fill=True)\n",
    "ax[3].legend([\"$Acetate$ excretion: ($\\\\frac{mmol}{h \\\\times g_{DW}}$)\"],frameon=False,loc=\"upper right\",fontsize=13)\n",
    "ax[3].set_yticks([])\n",
    "ax[3].set_ylabel(\"\")\n",
    "ax[3].set_xlabel(\"\")\n",
    "\n",
    "ax[0].set_title(\"Cellular state variability from sampled enzyme efficiencies\",fontsize=15)\n",
    "\n",
    "plt.tight_layout()\n",
    "plt.show()\n"
   ]
  },
  {
   "cell_type": "markdown",
   "metadata": {},
   "source": [
    "## Ribosome efficiency sampling\n",
    "Here we screen the impact of modulation of ribosome-capacity on the maximum growth-rate at different glucose concentrations. At each growth rate multiplicative modulators on ribosome-capacity between 0.01 and 100 are applied and the maximum growth-rate is determined.\n",
    "#### --> Relevant rbatools.rba_session.SessionRBA methods used here, are 'add_parameter_multiplier', 'setMedium' and 'screen_multipliers'."
   ]
  },
  {
   "cell_type": "code",
   "execution_count": null,
   "metadata": {},
   "outputs": [],
   "source": [
    "print(Simulation.add_parameter_multiplier.__doc__)"
   ]
  },
  {
   "cell_type": "code",
   "execution_count": null,
   "metadata": {},
   "outputs": [],
   "source": [
    "print(Simulation.screen_multipliers.__doc__)"
   ]
  },
  {
   "cell_type": "code",
   "execution_count": null,
   "metadata": {},
   "outputs": [],
   "source": [
    "Glucose_concentrations=[0.0125,0.025,0.05,0.1,1]\n",
    "\n",
    "Simulation.reload_model()\n",
    "Simulation.add_parameter_multiplier(model_parameter=\"ribosome_capacity\",rebuild_model=True)\n",
    "log_factors=[-2,-1.5,-1,-0.5,0,0.5,1,1.5,2]\n",
    "\n",
    "Results={}\n",
    "for glc_conc in Glucose_concentrations:\n",
    "    Simulation.set_medium({'M_glc':glc_conc})\n",
    "    screen_results=Simulation.screen_multipliers(parameter=\"ribosome_capacity\",factors=[10**i for i in log_factors])\n",
    "    scaling_factors , growth_rates = [list(i) for i in zip(*screen_results.items())]\n",
    "    Results[glc_conc]={\"Scaling Factors\":scaling_factors,\"Growth_rates\":[i[\"Mu\"] for i in growth_rates]}\n",
    "\n"
   ]
  },
  {
   "cell_type": "code",
   "execution_count": null,
   "metadata": {},
   "outputs": [],
   "source": [
    "color_dict={0.0125:\"lightsteelblue\",0.025:\"orange\",0.05:\"lightsteelblue\",0.1:\"steelblue\",1:\"steelblue\"}\n",
    "alpha_dict={0.0125:0.3,0.025:0.8,0.05:0.7,0.1:0.4,1:1}\n",
    "\n",
    "fig=plt.figure(figsize=(8,4))\n",
    "ax = fig.add_subplot(111)\n",
    "\n",
    "log_scaling_coeffs=[numpy.log10(i) for i in Results[glc_conc][\"Scaling Factors\"]]\n",
    "for glc_conc in reversed(Glucose_concentrations):\n",
    "    if glc_conc in color_dict.keys():\n",
    "        ax.scatter(log_scaling_coeffs,Results[glc_conc][\"Growth_rates\"],color=color_dict[glc_conc],alpha=1,s=50,edgecolor='none')\n",
    "plt.legend([\"$Glucose$ : {} $mM$\".format(glc_conc) for glc_conc in reversed(Glucose_concentrations) if glc_conc in color_dict.keys()],fontsize=12,frameon=False)\n",
    "ax.vlines(x=0,ymin=0,ymax=1.6,linestyles=\"dashed\",color=\"black\",linewidth=1,alpha=0.3)\n",
    "for glc_conc in Glucose_concentrations:\n",
    "    if glc_conc in color_dict.keys():\n",
    "        ax.plot(log_scaling_coeffs,Results[glc_conc][\"Growth_rates\"],color=color_dict[glc_conc],alpha=alpha_dict[glc_conc])\n",
    "for glc_conc in Glucose_concentrations:\n",
    "    #ax.scatter(log_scaling_coeffs,Results[glc_conc][\"Growth_rates\"],color=\"red\",alpha=1,s=55,edgecolor='face')\n",
    "    if glc_conc in color_dict.keys():\n",
    "        ax.scatter([numpy.log10(i) for i in Results[glc_conc][\"Scaling Factors\"]],Results[glc_conc][\"Growth_rates\"],color=color_dict[glc_conc],alpha=alpha_dict[glc_conc],s=50,edgecolor='none')\n",
    "\n",
    "ax.set_title(\"Effect of ribosome capacity modulation on growth-rate\",fontsize=15)\n",
    "ax.set_xlabel(\"Scaling factor ribosome capacity\",fontsize=12)\n",
    "ax.set_ylabel(\"Growth-rate ($h^{-1}$)\",fontsize=12)\n",
    "ax.set_xticks([-2,-1,1,2,0])\n",
    "ax.set_xticklabels([str(\"$10^{\"+str(i)+\"}$\") for i in [-2,-1,1,2]]+[str(1)])\n",
    "#ax.set_ylim(-0.02,1.5)\n",
    "\n",
    "plt.tight_layout()\n",
    "plt.show()\n",
    "\n",
    "\n",
    "\n",
    "\n",
    "\n"
   ]
  },
  {
   "cell_type": "markdown",
   "metadata": {},
   "source": [
    "## Local sensitivity analysis of growth rate vs. ribosome capacity over glucose concentrations\n",
    "Here we perform local sensitivity analysis of maximum growth-rate on ribosome- and glucose-uptake (PTSG-system) efficiency at different glucose concentrations. Local sensitivity is represented as the partial derivative of maximum growth-rate vs. model-parameter values at wild-type. \n",
    "\n",
    "Absolute sensitivity represents the the change in growth-rate per change in parameter value.\n",
    "Scaled sensitivity represents the relative change in growth-rate per relative change in parameter value.\n",
    "#### --> Relevant rbatools.rba_session.SessionRBA methods used here, are 'add_parameter_multiplier', 'setMedium' and 'local_sensitivity'."
   ]
  },
  {
   "cell_type": "code",
   "execution_count": null,
   "metadata": {},
   "outputs": [],
   "source": [
    "print(Simulation.local_sensitivity.__doc__)"
   ]
  },
  {
   "cell_type": "code",
   "execution_count": null,
   "metadata": {},
   "outputs": [],
   "source": [
    "Simulation.reload_model()\n",
    "\n",
    "Glucose_concentrations=[0.0125*(i+1) for i in range(8)]\n",
    "\n",
    "Local_sensitivities={}\n",
    "for glc_conc in Glucose_concentrations:\n",
    "    Simulation.set_medium({'M_glc':glc_conc})\n",
    "    res=Simulation.local_sensitivity(parameters=[\"ribosome_capacity\",'TptsG_efficiency','maintenance_atp'],relative_parameter_difference=0.01)\n",
    "    Local_sensitivities[glc_conc]=res\n",
    "\n",
    "\n"
   ]
  },
  {
   "cell_type": "code",
   "execution_count": null,
   "metadata": {},
   "outputs": [],
   "source": [
    "fig=plt.figure(figsize=(7,3))\n",
    "ax = fig.add_subplot(111)\n",
    "\n",
    "ax.plot([glc_conc for glc_conc in Glucose_concentrations if glc_conc<=1],[Local_sensitivities[glc_conc].loc[\"ribosome_capacity\",\"Scaled_Sensitivity\"] for glc_conc in Glucose_concentrations if glc_conc<=1],\n",
    "                color=\"indianred\",\n",
    "                linewidth=2,\n",
    "                linestyle=\"dashed\")\n",
    "ax.scatter([glc_conc for glc_conc in Glucose_concentrations if glc_conc<=1],[Local_sensitivities[glc_conc].loc[\"ribosome_capacity\",\"Scaled_Sensitivity\"] for glc_conc in Glucose_concentrations if glc_conc<=1],\n",
    "                color=\"indianred\")\n",
    "ax2=ax.twinx()\n",
    "ax2.plot([glc_conc for glc_conc in Glucose_concentrations if glc_conc<=1],[Local_sensitivities[glc_conc].loc[\"ribosome_capacity\",\"Absolute_Sensitivity\"] for glc_conc in Glucose_concentrations if glc_conc<=1],\n",
    "                color=\"steelblue\",\n",
    "                linewidth=2,\n",
    "                linestyle=\"dashed\")\n",
    "ax2.scatter([glc_conc for glc_conc in Glucose_concentrations if glc_conc<=1],[Local_sensitivities[glc_conc].loc[\"ribosome_capacity\",\"Absolute_Sensitivity\"] for glc_conc in Glucose_concentrations if glc_conc<=1],\n",
    "                color=\"steelblue\")\n",
    "\n",
    "ax.set_title(\"Local sensitivities ribosome_capacity\",fontsize=15)\n",
    "ax.set_xlabel(\"Glucose concentration ($mM$)\", labelpad=0.1,fontsize=12)\n",
    "ax.set_ylabel(\"Scaled sensitivity\",color=\"indianred\",fontsize=12)\n",
    "ax2.set_ylabel('Absolute sensitivity',color=\"steelblue\",fontsize=12)\n",
    "\n",
    "#ax.set_xlim(0,0.065)\n",
    "#ax2.set_xlim(0,0.065)\n",
    "plt.savefig(\"Loc_sens_RibosomeKapp.png\",dpi=400)\n",
    "plt.show()\n",
    "\n",
    "fig=plt.figure(figsize=(7,3))\n",
    "ax = fig.add_subplot(111)\n",
    "\n",
    "ax.plot([glc_conc for glc_conc in Glucose_concentrations if glc_conc<=1],[Local_sensitivities[glc_conc].loc[\"TptsG_efficiency\",\"Scaled_Sensitivity\"] for glc_conc in Glucose_concentrations if glc_conc<=1],\n",
    "                color=\"indianred\",\n",
    "                linewidth=2,\n",
    "                linestyle=\"dashed\")\n",
    "ax.scatter([glc_conc for glc_conc in Glucose_concentrations if glc_conc<=1],[Local_sensitivities[glc_conc].loc[\"TptsG_efficiency\",\"Scaled_Sensitivity\"] for glc_conc in Glucose_concentrations if glc_conc<=1],\n",
    "                color=\"indianred\")\n",
    "ax2=ax.twinx()\n",
    "ax2.plot([glc_conc for glc_conc in Glucose_concentrations if glc_conc<=1],[Local_sensitivities[glc_conc].loc[\"TptsG_efficiency\",\"Absolute_Sensitivity\"] for glc_conc in Glucose_concentrations if glc_conc<=1],\n",
    "                color=\"steelblue\",\n",
    "                linewidth=2,\n",
    "                linestyle=\"dashed\")\n",
    "ax2.scatter([glc_conc for glc_conc in Glucose_concentrations if glc_conc<=1],[Local_sensitivities[glc_conc].loc[\"TptsG_efficiency\",\"Absolute_Sensitivity\"] for glc_conc in Glucose_concentrations if glc_conc<=1],\n",
    "                color=\"steelblue\")\n",
    "\n",
    "ax.set_title(\"Local sensitivities TptsG_efficiency\",fontsize=15)\n",
    "ax.set_xlabel(\"Glucose concentration ($mM$)\", labelpad=0.1,fontsize=12)\n",
    "ax.set_ylabel(\"Scaled sensitivity\",color=\"indianred\",fontsize=12)\n",
    "ax2.set_ylabel('Absolute sensitivity',color=\"steelblue\",fontsize=12)\n",
    "#ax.set_xlim(0,0.065)\n",
    "#ax2.set_xlim(0,0.065)\n",
    "plt.savefig(\"Loc_sens_PtsgKapp.png\",dpi=400)\n",
    "plt.show()\n",
    "\n",
    "fig=plt.figure(figsize=(7,3))\n",
    "ax = fig.add_subplot(111)\n",
    "\n",
    "ax.plot([glc_conc for glc_conc in Glucose_concentrations if glc_conc<=1],[Local_sensitivities[glc_conc].loc[\"maintenance_atp\",\"Scaled_Sensitivity\"] for glc_conc in Glucose_concentrations if glc_conc<=1],\n",
    "                color=\"indianred\",\n",
    "                linewidth=2,\n",
    "                linestyle=\"dashed\")\n",
    "ax.scatter([glc_conc for glc_conc in Glucose_concentrations if glc_conc<=1],[Local_sensitivities[glc_conc].loc[\"maintenance_atp\",\"Scaled_Sensitivity\"] for glc_conc in Glucose_concentrations if glc_conc<=1],\n",
    "                color=\"indianred\")\n",
    "ax2=ax.twinx()\n",
    "ax2.plot([glc_conc for glc_conc in Glucose_concentrations if glc_conc<=1],[Local_sensitivities[glc_conc].loc[\"maintenance_atp\",\"Absolute_Sensitivity\"] for glc_conc in Glucose_concentrations if glc_conc<=1],\n",
    "                color=\"steelblue\",\n",
    "                linewidth=2,\n",
    "                linestyle=\"dashed\")\n",
    "ax2.scatter([glc_conc for glc_conc in Glucose_concentrations if glc_conc<=1],[Local_sensitivities[glc_conc].loc[\"maintenance_atp\",\"Absolute_Sensitivity\"] for glc_conc in Glucose_concentrations if glc_conc<=1],\n",
    "                color=\"steelblue\")\n",
    "\n",
    "ax.set_title(\"Local sensitivities ATP-maintenance\",fontsize=15)\n",
    "ax.set_xlabel(\"Glucose concentration ($mM$)\", labelpad=0.1,fontsize=12)\n",
    "ax.set_ylabel(\"Scaled sensitivity\",color=\"indianred\",fontsize=12)\n",
    "ax2.set_ylabel('Absolute sensitivity',color=\"steelblue\",fontsize=12)\n",
    "#ax.set_xlim(0,0.065)\n",
    "#ax2.set_xlim(0,0.065)\n",
    "plt.savefig(\"Loc_sens_AtpMaint.png\",dpi=400)\n",
    "plt.show()"
   ]
  },
  {
   "cell_type": "markdown",
   "metadata": {},
   "source": [
    "## Gene KO\n",
    "\n",
    "Here we apply single knock-outs for all genes, associated with non-transport metabolic reactions and evaluate their effects on the maximum growth-rate.\n",
    "\n",
    "#### --> Relevant rbatools.rba_session.SessionRBA methods used here, are 'setMedium', 'find_max_growth_rate', 'get_reactions', 'get_reaction_information', 'apply_gene_knock_out', 'set_growth_rate', 'solve' and  'undo_gene_knock_out'."
   ]
  },
  {
   "cell_type": "code",
   "execution_count": null,
   "metadata": {},
   "outputs": [],
   "source": [
    "print(Simulation.get_reactions.__doc__)"
   ]
  },
  {
   "cell_type": "code",
   "execution_count": null,
   "metadata": {},
   "outputs": [],
   "source": [
    "print(Simulation.get_reaction_information.__doc__)"
   ]
  },
  {
   "cell_type": "code",
   "execution_count": null,
   "metadata": {},
   "outputs": [],
   "source": [
    "print(Simulation.apply_gene_knock_out.__doc__)"
   ]
  },
  {
   "cell_type": "code",
   "execution_count": null,
   "metadata": {},
   "outputs": [],
   "source": [
    "print(Simulation.solve.__doc__)"
   ]
  },
  {
   "cell_type": "code",
   "execution_count": null,
   "metadata": {},
   "outputs": [],
   "source": [
    "print(Simulation.undo_gene_knock_out.__doc__)"
   ]
  },
  {
   "cell_type": "code",
   "execution_count": null,
   "metadata": {},
   "outputs": [],
   "source": [
    "Simulation.reload_model()\n",
    "\n",
    "Simulation.set_medium({'M_glc':0.1})\n",
    "mu_WT=Simulation.find_max_growth_rate()\n",
    "\n",
    "KO_mus={}\n",
    "count=0\n",
    "for rxn in Simulation.get_reactions(): # iterate over all model reactions\n",
    "    #if count>=30:\n",
    "    #    break\n",
    "    rxn_info=Simulation.get_reaction_information(rxn) # retrieve information on reaction\n",
    "    if rxn_info['Type'] == 'Normal': # Only continue if reaction is not transport\n",
    "        if rxn_info['Enzyme']!='': # Only continue if reaction has associated enzyme\n",
    "            try:\n",
    "                rxn_subunits=list(Simulation.get_enzyme_information(rxn_info['Enzyme'])['Subunits'].keys()) \n",
    "                # All proteins associated with reaction's enzyme\n",
    "                for rxn_su in rxn_subunits:\n",
    "                    if not rxn_su in KO_mus.keys(): #only continue if proteins has not bee checked before\n",
    "                        Simulation.apply_gene_knock_out(gene=rxn_su) # knock out protein\n",
    "                        #check whether wild-type growth-rate is feasible\n",
    "                        Simulation.set_growth_rate(mu_WT) \n",
    "                        mu_WT_feasible=Simulation.solve()\n",
    "                        if not mu_WT_feasible: # if WT growth rate is not feasible we have to find the maximum one\n",
    "                            # Ergo: (mu_max < mu_WT)\n",
    "                            #check whether cell can grow at all with knock-out\n",
    "                            Simulation.set_growth_rate(0.0)\n",
    "                            mu_zero_feasible=Simulation.solve()\n",
    "                            if not mu_zero_feasible:\n",
    "                                # if growth rate 0 is infeasible, cell is growth-deficient \n",
    "                                # Ergo: (mu_max = 0)\n",
    "                                KO_mus.update({rxn_su:0})\n",
    "                            else:\n",
    "                                # if growth rate 0 is feasible, we have to find the maximum growth rate \n",
    "                                # Ergo: (0 < mu_max < mu_WT)\n",
    "                                KO_mus.update({rxn_su:Simulation.find_max_growth_rate(max=mu_WT)})\n",
    "                        else: \n",
    "                            # if WT growth-rate is feasible, we dont need to run the search for maximum growth-rate.\n",
    "                            # Ergo: (mu_max = mu_WT)\n",
    "                            KO_mus.update({rxn_su:mu_WT})\n",
    "                        Simulation.undo_gene_knock_out(gene=rxn_su) # undo gene-KO\n",
    "                    count+=1\n",
    "            except:\n",
    "                if not rxn_su in KO_mus.keys():\n",
    "                    KO_mus.update({rxn_su:numpy.nan})\n"
   ]
  },
  {
   "cell_type": "code",
   "execution_count": null,
   "metadata": {
    "scrolled": true
   },
   "outputs": [],
   "source": [
    "KO_effects=pandas.DataFrame()\n",
    "for i in KO_mus.keys():\n",
    "    if numpy.isfinite(KO_mus[i]):\n",
    "        KO_effects.loc[i,\"Gene\"]=i\n",
    "        KO_effects.loc[i,\"Mu\"]= KO_mus[i]\n",
    "        KO_effects.loc[i,\"Relative fitness\"]= KO_mus[i]/mu_WT\n",
    "        if KO_mus[i] == mu_WT:\n",
    "            KO_effects.loc[i,\"KO effect\"]= \"No effect\"\n",
    "        elif KO_mus[i] == 0:\n",
    "            KO_effects.loc[i,\"KO effect\"]= \"Growth deficiency\"\n",
    "        else:\n",
    "            KO_effects.loc[i,\"KO effect\"]= \"Growth-rate reduction\"\n",
    "\n",
    "\n",
    "number_growth_deficiency=KO_effects.loc[KO_effects[\"KO effect\"]==\"Growth deficiency\"].shape[0]      \n",
    "number_growth_reduction=KO_effects.loc[KO_effects[\"KO effect\"]==\"Growth-rate reduction\"].shape[0]      \n",
    "number_no_effect=KO_effects.loc[KO_effects[\"KO effect\"]==\"No effect\"].shape[0]      \n",
    "\n",
    "print(\"Number of genes without effect on growth-rate: {}\".format(number_no_effect))\n",
    "print(\"Number of genes with growth-deficiency effect: {}\".format(number_growth_deficiency))\n",
    "print(\"Number of genes with reducing effect on growth-rate: {}\".format(number_growth_reduction))\n"
   ]
  },
  {
   "cell_type": "code",
   "execution_count": null,
   "metadata": {
    "scrolled": true
   },
   "outputs": [],
   "source": [
    "fig=plt.figure(figsize=(6,4))\n",
    "ax = fig.add_subplot(111)\n",
    "hist=ax.hist(KO_effects.loc[KO_effects[\"KO effect\"]==\"Growth-rate reduction\",\"Relative fitness\"],5)\n",
    "ax.set_title(\"Distribution of relative fitness with gene KOs\",fontsize=15)\n",
    "ax.set_xlabel(\"Relative fitness\",fontsize=12)\n",
    "ax.set_ylabel(\"Frequency\",fontsize=12)\n",
    "plt.savefig(\"GeneKO_RelFitness_Distribution.png\",dpi=400)"
   ]
  },
  {
   "cell_type": "markdown",
   "metadata": {},
   "source": [
    "## Double KO - epistasis\n",
    "\n",
    "\n",
    "#### --> Relevant rbatools.rba_session.SessionRBA methods used here, are "
   ]
  },
  {
   "cell_type": "markdown",
   "metadata": {},
   "source": [
    "## Metabolic engineering\n",
    "\n",
    "\n",
    "#### --> Relevant rbatools.rba_session.SessionRBA methods used here, are \n",
    "\n"
   ]
  },
  {
   "cell_type": "code",
   "execution_count": null,
   "metadata": {},
   "outputs": [],
   "source": [
    "Simulation.reload_model()\n",
    "Simulation.add_reaction(reaction_id=\"R_rxnTest\",reactants={\"M_tpp_c\":1},reversible=False)\n",
    "#Simulation.add_reaction(reaction_id=\"R_rxnTransporter\",reactants={\"M_tpp_c\":1},reactants={\"M_tpp_e\":1},reversible=False)"
   ]
  },
  {
   "cell_type": "code",
   "execution_count": null,
   "metadata": {},
   "outputs": [],
   "source": [
    "Glucose_concentrations=[0.0125,0.025,0.05,0.1,1]\n",
    "Growth_rates={}\n",
    "excretion_fluxes={}\n",
    "for glc_conc in Glucose_concentrations:\n",
    "    excretion_fluxes[glc_conc]=[]\n",
    "    Simulation.set_medium({'M_glc':glc_conc})\n",
    "    mu_WT=Simulation.find_max_growth_rate()\n",
    "    Growth_rates[glc_conc]=[mu_WT*i for i in [0.01,0.025,0.05,0.075,0.1,0.125,0.15,0.175,0.2,0.225,0.25,0.275,0.3,0.325,0.35,0.375,0.4,0.425,0.45,0.475,0.5,0.525,0.55,0.575,0.6,0.625,0.65,0.675,0.7,0.725,0.75,0.775,0.8,0.825,0.85,0.875,0.9,0.925,0.95,0.975,0.9825,0.99,0.9925,0.995,0.9975,1]]\n",
    "    for mu in Growth_rates[glc_conc]:\n",
    "        Simulation.set_growth_rate(mu)\n",
    "        Simulation.Problem.clear_objective()\n",
    "        Simulation.Problem.set_objective(inputDict={\"R_rxnTest\": -1.0})\n",
    "        Simulation.Problem.solve_lp()\n",
    "        if Simulation.Problem.Solved:\n",
    "            excretion_fluxes[glc_conc].append(Simulation.Problem.SolutionValues[\"R_rxnTest\"])\n",
    "        else:\n",
    "            excretion_fluxes[glc_conc].append(numpy.nan)        \n"
   ]
  },
  {
   "cell_type": "code",
   "execution_count": null,
   "metadata": {},
   "outputs": [],
   "source": [
    "fig=plt.figure(figsize=(5,3.5))\n",
    "plt.scatter(Growth_rates[0.0125],excretion_fluxes[0.0125],s=5,color=\"blue\",label=\"Glc: 0.0125 mM\")\n",
    "plt.scatter(Growth_rates[0.025],excretion_fluxes[0.025],s=5,color=\"black\",label=\"Glc: 0.025 mM\")\n",
    "plt.scatter(Growth_rates[0.05],excretion_fluxes[0.05],s=5,color=\"orange\",label=\"Glc: 0.05 mM\")\n",
    "plt.scatter(Growth_rates[0.1],excretion_fluxes[0.1],s=5,color=\"red\",label=\"Glc: 0.1 mM\")\n",
    "plt.scatter(Growth_rates[1],excretion_fluxes[1],s=5,color=\"green\",label=\"Glc: 1 mM\")\n",
    "plt.legend()\n",
    "plt.xlabel(\"Growth-rate ($h^{-1}$)\",fontsize=12)\n",
    "plt.ylabel(\"Flux ($mmol/(h^{-1}*g_{DW}$)))\",fontsize=12)\n",
    "plt.title(\"Production capacity Thiamine vs. growth\",fontsize=15)\n",
    "plt.savefig(\"ProdCap_Thiamine.png\",dpi=400)\n",
    "plt.show()"
   ]
  },
  {
   "cell_type": "code",
   "execution_count": null,
   "metadata": {},
   "outputs": [],
   "source": []
  }
 ],
 "metadata": {
  "kernelspec": {
   "display_name": "Python 3",
   "language": "python",
   "name": "python3"
  },
  "language_info": {
   "codemirror_mode": {
    "name": "ipython",
    "version": 3
   },
   "file_extension": ".py",
   "mimetype": "text/x-python",
   "name": "python",
   "nbconvert_exporter": "python",
   "pygments_lexer": "ipython3",
   "version": "3.6.5"
  }
 },
 "nbformat": 4,
 "nbformat_minor": 2
}
